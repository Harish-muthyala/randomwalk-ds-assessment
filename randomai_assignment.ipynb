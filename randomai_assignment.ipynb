{
 "cells": [
  {
   "cell_type": "code",
   "execution_count": 4,
   "id": "0fb63b41",
   "metadata": {},
   "outputs": [],
   "source": [
    "import pandas as pd\n",
    "import matplotlib.pyplot as plt"
   ]
  },
  {
   "cell_type": "code",
   "execution_count": 5,
   "id": "9a081621",
   "metadata": {},
   "outputs": [],
   "source": [
    "df = pd.read_csv('books.csv')"
   ]
  },
  {
   "cell_type": "code",
   "execution_count": 6,
   "id": "898b1e0d",
   "metadata": {},
   "outputs": [
    {
     "name": "stdout",
     "output_type": "stream",
     "text": [
      "Q1: Rows = 399, Columns = 24\n"
     ]
    }
   ],
   "source": [
    "# Q1: How many rows and columns are there in books.csv dataset?\n",
    "rows, columns = df.shape\n",
    "print(f\"Q1: Rows = {rows}, Columns = {columns}\")"
   ]
  },
  {
   "cell_type": "code",
   "execution_count": 8,
   "id": "e4bce942",
   "metadata": {},
   "outputs": [
    {
     "name": "stdout",
     "output_type": "stream",
     "text": [
      "Q2: Books without original title = 36\n"
     ]
    }
   ],
   "source": [
    "# Q2: How many books do not have an original title?\n",
    "books_without_title = df['original_title'].isnull().sum()\n",
    "print(f\"Q2: Books without original title = {books_without_title}\")"
   ]
  },
  {
   "cell_type": "code",
   "execution_count": 9,
   "id": "acf3f017",
   "metadata": {},
   "outputs": [
    {
     "name": "stdout",
     "output_type": "stream",
     "text": [
      "Q3: Unique books in the dataset = 363\n"
     ]
    }
   ],
   "source": [
    "# Q3: How many unique books are present in the dataset? Evaluate based on the 'book_id' after removing null values in the original_title column.\n",
    "unique_books = df[df['original_title'].notnull()]['book_id'].nunique()\n",
    "print(f\"Q3: Unique books in the dataset = {unique_books}\")"
   ]
  },
  {
   "cell_type": "code",
   "execution_count": 10,
   "id": "241ba1a6",
   "metadata": {},
   "outputs": [
    {
     "name": "stdout",
     "output_type": "stream",
     "text": [
      "Q4: Average rating of all books = 3.98\n"
     ]
    }
   ],
   "source": [
    "# Q4: What is the average rating of all the books in the dataset based on ‘average_rating’?\n",
    "average_rating = df['average_rating'].mean()\n",
    "print(f\"Q4: Average rating of all books = {average_rating:.2f}\")"
   ]
  },
  {
   "cell_type": "code",
   "execution_count": 11,
   "id": "42e13669",
   "metadata": {},
   "outputs": [
    {
     "name": "stdout",
     "output_type": "stream",
     "text": [
      "Q5: Number of books published in 2000 = 8\n"
     ]
    }
   ],
   "source": [
    "# Q5: Find the number of books published in the year ‘2000’ based on the ‘original_publication_year’.\n",
    "books_published_2000 = df[df['original_publication_year'] == 2000].shape[0]\n",
    "print(f\"Q5: Number of books published in 2000 = {books_published_2000}\")"
   ]
  },
  {
   "cell_type": "code",
   "execution_count": 12,
   "id": "882d35ed",
   "metadata": {},
   "outputs": [
    {
     "name": "stdout",
     "output_type": "stream",
     "text": [
      "Q6: Book with the maximum ratings = The Diary of a Young Girl\n"
     ]
    }
   ],
   "source": [
    "# Q6: Which book (title) has the maximum number of ratings based on ‘work_ratings_count’.\n",
    "max_ratings_book = df.loc[df['work_ratings_count'].idxmax()]['title']\n",
    "print(f\"Q6: Book with the maximum ratings = {max_ratings_book}\")"
   ]
  },
  {
   "cell_type": "code",
   "execution_count": 14,
   "id": "4ec99a1c",
   "metadata": {},
   "outputs": [
    {
     "data": {
      "image/png": "[encoded data removed]",
      "text/plain": [
       "<Figure size 432x288 with 1 Axes>"
      ]
     },
     "metadata": {
      "needs_background": "light"
     },
     "output_type": "display_data"
    }
   ],
   "source": [
    "# Q7: Bucket the average_rating of books into 11 buckets [0, 0.5, 1.0, 1.5, 2.0, 2.5, 3.0, 3.5, 4.0, 4.5, 5.0] with 0.5 decimal rounding.\n",
    "bins = [0, 0.5, 1.0, 1.5, 2.0, 2.5, 3.0, 3.5, 4.0, 4.5, 5.0]\n",
    "df['rating_bucket'] = pd.cut(df['average_rating'], bins, include_lowest=True, right=False)\n",
    "rating_counts = df['rating_bucket'].value_counts().sort_index()\n",
    "# Plot bar graph\n",
    "plt.bar(rating_counts.index.astype(str), rating_counts)\n",
    "plt.xlabel('Average Rating Bucket')\n",
    "plt.ylabel('Number of Books')\n",
    "plt.title('Number of Books in Each Rating Bucket')\n",
    "plt.show()"
   ]
  },
  {
   "cell_type": "code",
   "execution_count": null,
   "id": "b80100d0",
   "metadata": {},
   "outputs": [],
   "source": []
  }
 ],
 "metadata": {
  "kernelspec": {
   "display_name": "Python 3 (ipykernel)",
   "language": "python",
   "name": "python3"
  },
  "language_info": {
   "codemirror_mode": {
    "name": "ipython",
    "version": 3
   },
   "file_extension": ".py",
   "mimetype": "text/x-python",
   "name": "python",
   "nbconvert_exporter": "python",
   "pygments_lexer": "ipython3",
   "version": "3.9.12"
  }
 },
 "nbformat": 4,
 "nbformat_minor": 5
}
